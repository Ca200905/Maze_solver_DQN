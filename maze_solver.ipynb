{
 "cells": [
  {
   "cell_type": "code",
   "execution_count": 23,
   "metadata": {
    "ExecuteTime": {
     "end_time": "2025-06-25T04:50:13.669326Z",
     "start_time": "2025-06-25T04:50:13.649618Z"
    }
   },
   "outputs": [],
   "source": [
    "# basic python libraries\n",
    "import numpy as np                  # for numerical operations\n",
    "import scipy.special as sp         # for softmax function\n",
    "import copy                        # for deep copies of state\n",
    "import time                        # for timing animations\n",
    "import random                      # for random sampling\n",
    "\n",
    "# display and plotting\n",
    "from IPython.display import display, clear_output  # for showing outputs in loop\n",
    "import matplotlib.pyplot as plt                    # for plotting\n",
    "import seaborn as sns                              # for heatmaps and advanced plots\n",
    "\n",
    "# pytorch libraries\n",
    "import torch                          # base library\n",
    "import torch.nn as nn                 # neural network components\n",
    "import torch.optim as optim           # optimization algorithms\n",
    "\n",
    "# replay memory for dqn\n",
    "import collections                   # for namedtuple and deque\n"
   ]
  },
  {
   "cell_type": "markdown",
   "metadata": {},
   "source": [
    "**Introduce experience replay.**"
   ]
  },
  {
   "cell_type": "code",
   "execution_count": 24,
   "metadata": {
    "ExecuteTime": {
     "end_time": "2025-06-25T04:50:45.230170Z",
     "start_time": "2025-06-25T04:50:45.214190Z"
    }
   },
   "outputs": [],
   "source": [
    "# define a namedtuple for storing agent experience\n",
    "Transition = collections.namedtuple('Experience',\n",
    "                                    field_names=['state', 'action',\n",
    "                                                 'next_state', 'reward',\n",
    "                                                 'is_game_on'])\n",
    "\n",
    "# experience replay buffer for dqn\n",
    "class ExperienceReplay:\n",
    "    def __init__(self, capacity):\n",
    "        # set max buffer size\n",
    "        self.capacity = capacity\n",
    "        self.memory = collections.deque(maxlen=capacity)\n",
    "\n",
    "    def __len__(self):\n",
    "        # return current number of items in buffer\n",
    "        return len(self.memory)\n",
    "\n",
    "    def push(self, transition):\n",
    "        # add a new transition to buffer\n",
    "        self.memory.append(transition)\n",
    "\n",
    "    def sample(self, batch_size, device='cuda'):\n",
    "        # randomly select a batch of transitions\n",
    "        indices = np.random.choice(len(self.memory), batch_size, replace=False)\n",
    "\n",
    "        # unpack sampled transitions\n",
    "        states, actions, next_states, rewards, isgameon = zip(*[self.memory[idx]\n",
    "                                                                for idx in indices])\n",
    "\n",
    "        # convert to torch tensors and send to device\n",
    "        return torch.Tensor(states).type(torch.float).to(device), \\\n",
    "               torch.Tensor(actions).type(torch.long).to(device), \\\n",
    "               torch.Tensor(next_states).to(device), \\\n",
    "               torch.Tensor(rewards).to(device), \\\n",
    "               torch.tensor(isgameon).to(device)\n"
   ]
  },
  {
   "cell_type": "markdown",
   "metadata": {},
   "source": [
    "**Networks definition.**"
   ]
  },
  {
   "cell_type": "code",
   "execution_count": 25,
   "metadata": {
    "ExecuteTime": {
     "end_time": "2025-06-25T04:51:09.965591Z",
     "start_time": "2025-06-25T04:51:09.957593Z"
    }
   },
   "outputs": [],
   "source": [
    "# fully connected neural network for q-learning\n",
    "class fc_nn(nn.Module):\n",
    "    def __init__(self, Ni, Nh1, Nh2, No=4):\n",
    "        super().__init__()\n",
    "\n",
    "        # define network layers\n",
    "        self.fc1 = nn.Linear(Ni, Nh1)    # input to hidden layer 1\n",
    "        self.fc2 = nn.Linear(Nh1, Nh2)   # hidden layer 1 to hidden layer 2\n",
    "        self.fc3 = nn.Linear(Nh2, No)    # hidden layer 2 to output\n",
    "\n",
    "        # use relu activation\n",
    "        self.act = nn.ReLU()\n",
    "\n",
    "    def forward(self, x, classification=False, additional_out=False):\n",
    "        # pass through hidden layers with activation\n",
    "        x = self.act(self.fc1(x))\n",
    "        x = self.act(self.fc2(x))\n",
    "\n",
    "        # output layer (raw q-values)\n",
    "        out = self.fc3(x)\n",
    "        return out\n"
   ]
  },
  {
   "cell_type": "code",
   "execution_count": 26,
   "metadata": {
    "ExecuteTime": {
     "end_time": "2025-06-25T04:51:58.001022Z",
     "start_time": "2025-06-25T04:51:57.989020Z"
    }
   },
   "outputs": [],
   "source": [
    "# convolutional neural network for q-learning\n",
    "class conv_nn(nn.Module):\n",
    "\n",
    "    # cnn architecture config\n",
    "    channels = [16, 32, 64]     # number of channels per layer\n",
    "    kernels = [3, 3, 3]         # kernel size for each layer\n",
    "    strides = [1, 1, 1]         # stride for each layer\n",
    "    in_channels = 1            # grayscale input\n",
    "\n",
    "    def __init__(self, rows, cols, n_act):\n",
    "        super().__init__()\n",
    "        self.rows = rows      # maze height\n",
    "        self.cols = cols      # maze width\n",
    "\n",
    "        # define conv layers\n",
    "        self.conv = nn.Sequential(\n",
    "            nn.Conv2d(in_channels=self.in_channels,\n",
    "                      out_channels=self.channels[0],\n",
    "                      kernel_size=self.kernels[0],\n",
    "                      stride=self.strides[0]),\n",
    "            nn.ReLU(),\n",
    "\n",
    "            nn.Conv2d(in_channels=self.channels[0],\n",
    "                      out_channels=self.channels[1],\n",
    "                      kernel_size=self.kernels[1],\n",
    "                      stride=self.strides[1]),\n",
    "            nn.ReLU()\n",
    "        )\n",
    "\n",
    "        # compute size after conv layers\n",
    "        size_out_conv = self.get_conv_size(rows, cols)\n",
    "\n",
    "        # define fully connected layers\n",
    "        self.linear = nn.Sequential(\n",
    "            nn.Linear(size_out_conv, rows * cols * 2),\n",
    "            nn.ReLU(),\n",
    "            nn.Linear(rows * cols * 2, int(rows * cols / 2)),\n",
    "            nn.ReLU(),\n",
    "            nn.Linear(int(rows * cols / 2), n_act)\n",
    "        )\n",
    "\n",
    "    def forward(self, x):\n",
    "        # reshape to [batch, channels, height, width]\n",
    "        x = x.view(len(x), self.in_channels, self.rows, self.cols)\n",
    "        out_conv = self.conv(x).view(len(x), -1)   # apply conv layers\n",
    "        out_lin = self.linear(out_conv)            # apply fc layers\n",
    "        return out_lin\n",
    "\n",
    "    def get_conv_size(self, x, y):\n",
    "        # helper to calculate flattened output size after conv layers\n",
    "        out_conv = self.conv(torch.zeros(1, self.in_channels, x, y))\n",
    "        return int(np.prod(out_conv.size()))\n"
   ]
  },
  {
   "cell_type": "code",
   "execution_count": 27,
   "metadata": {
    "ExecuteTime": {
     "end_time": "2025-06-25T04:52:18.575315Z",
     "start_time": "2025-06-25T04:52:18.566922Z"
    }
   },
   "outputs": [],
   "source": [
    "# compute mean squared td loss for dqn update\n",
    "def Qloss(batch, net, gamma=0.99, device=\"cuda\"):\n",
    "    # unpack batch\n",
    "    states, actions, next_states, rewards, _ = batch\n",
    "    lbatch = len(states)\n",
    "\n",
    "    # get q-values for current states and actions taken\n",
    "    state_action_values = net(states.view(lbatch, -1))\n",
    "    state_action_values = state_action_values.gather(1, actions.unsqueeze(-1))\n",
    "    state_action_values = state_action_values.squeeze(-1)\n",
    "\n",
    "    # get max q-value for next states\n",
    "    next_state_values = net(next_states.view(lbatch, -1))\n",
    "    next_state_values = next_state_values.max(1)[0]\n",
    "\n",
    "    # detach to prevent gradient flow\n",
    "    next_state_values = next_state_values.detach()\n",
    "\n",
    "    # compute expected q-values\n",
    "    expected_state_action_values = next_state_values * gamma + rewards\n",
    "\n",
    "    # return mse loss\n",
    "    return nn.MSELoss()(state_action_values, expected_state_action_values)\n"
   ]
  },
  {
   "cell_type": "markdown",
   "metadata": {},
   "source": [
    "**Import the maze and define the environment.**"
   ]
  },
  {
   "cell_type": "code",
   "execution_count": 28,
   "metadata": {
    "ExecuteTime": {
     "end_time": "2025-06-25T04:52:44.844372Z",
     "start_time": "2025-06-25T04:52:44.836116Z"
    }
   },
   "outputs": [],
   "source": [
    "from environment import MazeEnvironment\n",
    "\n",
    "# load maze from file\n",
    "maze = np.load('maze_generator/maze.npy')\n",
    "\n",
    "# set start and goal positions\n",
    "initial_position = [0, 0]\n",
    "goal = [len(maze) - 1, len(maze) - 1]\n",
    "\n",
    "# create maze environment instance\n",
    "maze_env = MazeEnvironment(maze, initial_position, goal)\n"
   ]
  },
  {
   "cell_type": "code",
   "execution_count": 30,
   "metadata": {
    "ExecuteTime": {
     "end_time": "2025-06-25T04:53:07.640758Z",
     "start_time": "2025-06-25T04:53:07.548791Z"
    }
   },
   "outputs": [
    {
     "data": {
      "image/png": "[encoded data removed]",
      "text/plain": [
       "<Figure size 432x288 with 1 Axes>"
      ]
     },
     "metadata": {},
     "output_type": "display_data"
    }
   ],
   "source": [
    "# draw and save the maze to a pdf file\n",
    "maze_env.draw('maze_10.pdf')\n"
   ]
  },
  {
   "cell_type": "markdown",
   "metadata": {},
   "source": [
    "**Define the agent and the buffer for experience replay.**"
   ]
  },
  {
   "cell_type": "code",
   "execution_count": 31,
   "metadata": {
    "ExecuteTime": {
     "end_time": "2025-06-25T04:54:34.965069Z",
     "start_time": "2025-06-25T04:54:34.957014Z"
    }
   },
   "outputs": [],
   "source": [
    "# define experience replay buffer\n",
    "buffer_capacity = 10000           # max transitions to store\n",
    "buffer_start_size = 1000          # min transitions before training starts\n",
    "memory_buffer = ExperienceReplay(buffer_capacity)  # create replay buffer\n"
   ]
  },
  {
   "cell_type": "code",
   "execution_count": 32,
   "metadata": {
    "ExecuteTime": {
     "end_time": "2025-06-25T04:54:54.792442Z",
     "start_time": "2025-06-25T04:54:54.786179Z"
    }
   },
   "outputs": [],
   "source": [
    "from agent import Agent\n",
    "\n",
    "# create agent instance with the maze environment and replay buffer\n",
    "agent = Agent(maze=maze_env,\n",
    "              memory_buffer=memory_buffer,\n",
    "              use_softmax=True)  # use softmax sampling for action selection\n"
   ]
  },
  {
   "cell_type": "markdown",
   "metadata": {},
   "source": [
    "** Define the network.**"
   ]
  },
  {
   "cell_type": "code",
   "execution_count": 33,
   "metadata": {
    "ExecuteTime": {
     "end_time": "2025-06-25T04:55:20.078311Z",
     "start_time": "2025-06-25T04:55:20.060305Z"
    }
   },
   "outputs": [],
   "source": [
    "# initialize fully connected Q-network\n",
    "net = fc_nn(maze.size, maze.size, maze.size, 4)\n",
    "\n",
    "# create Adam optimizer for training\n",
    "optimizer = optim.Adam(net.parameters(), lr=1e-4)\n"
   ]
  },
  {
   "cell_type": "code",
   "execution_count": 34,
   "metadata": {
    "ExecuteTime": {
     "end_time": "2025-06-25T04:55:42.465026Z",
     "start_time": "2025-06-25T04:55:42.450025Z"
    }
   },
   "outputs": [
    {
     "data": {
      "text/plain": [
       "fc_nn(\n",
       "  (fc1): Linear(in_features=100, out_features=100, bias=True)\n",
       "  (fc2): Linear(in_features=100, out_features=100, bias=True)\n",
       "  (fc3): Linear(in_features=100, out_features=4, bias=True)\n",
       "  (act): ReLU()\n",
       ")"
      ]
     },
     "execution_count": 34,
     "metadata": {},
     "output_type": "execute_result"
    }
   ],
   "source": [
    "# set training parameters\n",
    "device = 'cuda'         # use gpu for faster computation\n",
    "batch_size = 24         # number of samples per training step\n",
    "gamma = 0.9             # discount factor for future rewards\n",
    "\n",
    "# move network to gpu\n",
    "net.to(device)\n"
   ]
  },
  {
   "cell_type": "markdown",
   "metadata": {},
   "source": [
    "**Define the epsilon profile and plot the resetting probability.**"
   ]
  },
  {
   "cell_type": "code",
   "execution_count": 35,
   "metadata": {
    "ExecuteTime": {
     "end_time": "2025-06-25T04:56:03.758117Z",
     "start_time": "2025-06-25T04:56:03.490866Z"
    }
   },
   "outputs": [
    {
     "data": {
      "image/png": "[encoded data removed]",
      "text/plain": [
       "<Figure size 432x288 with 1 Axes>"
      ]
     },
     "metadata": {
      "needs_background": "light"
     },
     "output_type": "display_data"
    },
    {
     "data": {
      "image/png": "[encoded data removed]",
      "text/plain": [
       "<Figure size 432x288 with 1 Axes>"
      ]
     },
     "metadata": {
      "needs_background": "light"
     },
     "output_type": "display_data"
    }
   ],
   "source": [
    "# total number of training episodes\n",
    "num_epochs = 10000\n",
    "\n",
    "# cutoff value for epsilon decay\n",
    "cutoff = 3000\n",
    "\n",
    "# exponential decay for exploration (epsilon-greedy / softmax temperature)\n",
    "epsilon = np.exp(-np.arange(num_epochs) / cutoff)\n",
    "\n",
    "# clip epsilon after a certain threshold to prevent it from becoming too small\n",
    "epsilon[epsilon > epsilon[100 * int(num_epochs / cutoff)]] = epsilon[100 * int(num_epochs / cutoff)]\n",
    "\n",
    "# plot epsilon decay over epochs\n",
    "plt.plot(epsilon, color='orangered', ls='--')\n",
    "plt.xlabel('Epochs')\n",
    "plt.ylabel('Epsilon')\n",
    "plt.savefig('epsilon_profile.pdf', dpi=300, bbox_inches='tight')\n",
    "plt.show()\n",
    "\n",
    "# analyze how the reset policy (starting position distribution) changes with epsilon\n",
    "\n",
    "mp = []    # minimum probability of reset positions\n",
    "mpm = []   # maximum probability of reset positions\n",
    "reg = 200  # regularization factor for policy sharpness\n",
    "\n",
    "for e in epsilon:\n",
    "    a = agent.env.reset_policy(e)  # get softmax reset distribution for current epsilon\n",
    "    mp.append(np.min(a))           # store min reset prob\n",
    "    mpm.append(np.max(a))          # store max reset prob\n",
    "\n",
    "# plot how the reset probability range evolves with epsilon\n",
    "plt.plot(epsilon / 1.3, color='orangered', ls='--', alpha=0.5,\n",
    "         label='epsilon profile (arbitrary units)')\n",
    "\n",
    "plt.plot(np.array(mpm) - np.array(mp), label='probability difference', color='cornflowerblue')\n",
    "plt.xlabel('Epochs')\n",
    "plt.ylabel(r'max $p^r$ - min $p^r$')\n",
    "plt.legend()\n",
    "plt.savefig('reset_policy.pdf', dpi=300, bbox_inches='tight')\n",
    "plt.show()\n"
   ]
  },
  {
   "cell_type": "markdown",
   "metadata": {},
   "source": [
    "**Training the network.**"
   ]
  },
  {
   "cell_type": "code",
   "execution_count": 36,
   "metadata": {
    "jupyter": {
     "is_executing": true
    }
   },
   "outputs": [
    {
     "name": "stdout",
     "output_type": "stream",
     "text": [
      "epoch 9999 (number of moves: 10 )\n",
      "game won\n",
      "[####################################################################################################]\n",
      "\t average loss: 0.00321\n",
      "\t best avg loss (last 50): 0.00009 , at epoch 6235\n"
     ]
    }
   ],
   "source": [
    "# initialize logs and tracking variables\n",
    "loss_log = []\n",
    "best_loss = 1e5\n",
    "running_loss = 0\n",
    "\n",
    "# start training over num_epochs\n",
    "for epoch in range(num_epochs):\n",
    "    loss = 0                # track loss per episode\n",
    "    counter = 0             # number of steps/moves\n",
    "    eps = epsilon[epoch]    # current epsilon value\n",
    "\n",
    "    agent.isgameon = True   # reset game flag\n",
    "    _ = agent.env.reset(eps)  # reset environment based on epsilon\n",
    "\n",
    "    # run episode until agent reaches goal or fails\n",
    "    while agent.isgameon:\n",
    "        agent.make_a_move(net, eps)  # take a step based on policy\n",
    "        counter += 1\n",
    "\n",
    "        # skip training until buffer has enough samples\n",
    "        if len(agent.buffer) < buffer_start_size:\n",
    "            continue\n",
    "\n",
    "        # sample batch and update q-network\n",
    "        optimizer.zero_grad()\n",
    "        batch = agent.buffer.sample(batch_size, device=device)\n",
    "        loss_t = Qloss(batch, net, gamma=gamma, device=device)\n",
    "        loss_t.backward()\n",
    "        optimizer.step()\n",
    "\n",
    "        loss += loss_t.item()\n",
    "\n",
    "    # check if agent reached goal\n",
    "    if (agent.env.current_position == agent.env.goal).all():\n",
    "        result = 'won'\n",
    "    else:\n",
    "        result = 'lost'\n",
    "\n",
    "    # every 1000 epochs, plot and save policy map\n",
    "    if epoch % 1000 == 0:\n",
    "        agent.plot_policy_map(net, 'sol_epoch_' + str(epoch) + '.pdf', [0.35, -0.3])\n",
    "\n",
    "    # log episode loss\n",
    "    loss_log.append(loss)\n",
    "\n",
    "    # track best average loss over last 50 epochs\n",
    "    if epoch > 2000:\n",
    "        running_loss = np.mean(loss_log[-50:])\n",
    "        if running_loss < best_loss:\n",
    "            best_loss = running_loss\n",
    "            torch.save(net.state_dict(), \"best.torch\")  # save best model\n",
    "            estop = epoch  # early stop epoch\n",
    "\n",
    "    # print training progress\n",
    "    print('epoch', epoch, '(number of moves:', counter, ')')\n",
    "    print('game', result)\n",
    "    print('[' + '#' * (100 - int(100 * (1 - epoch / num_epochs))) +\n",
    "          ' ' * int(100 * (1 - epoch / num_epochs)) + ']')\n",
    "    print('\\t average loss:', f'{loss:.5f}')\n",
    "    if epoch > 2000:\n",
    "        print('\\t best avg loss (last 50):', f'{best_loss:.5f}', ', at epoch', estop)\n",
    "\n",
    "    clear_output(wait=True)\n"
   ]
  },
  {
   "cell_type": "code",
   "execution_count": 37,
   "metadata": {
    "ExecuteTime": {
     "end_time": "2025-06-25T08:40:38.090207700Z",
     "start_time": "2025-06-24T18:18:51.213257Z"
    }
   },
   "outputs": [],
   "source": [
    "# save final model weights after training is complete\n",
    "torch.save(net.state_dict(), \"net.torch\")\n"
   ]
  },
  {
   "cell_type": "code",
   "execution_count": 38,
   "metadata": {
    "ExecuteTime": {
     "end_time": "2025-06-25T08:40:38.109726400Z",
     "start_time": "2025-06-24T18:18:54.041722Z"
    }
   },
   "outputs": [
    {
     "data": {
      "image/png": "[encoded data removed]",
      "text/plain": [
       "<Figure size 432x288 with 1 Axes>"
      ]
     },
     "metadata": {
      "needs_background": "light"
     },
     "output_type": "display_data"
    }
   ],
   "source": [
    "# plot 1: scaled epsilon profile (exploration rate trend)\n",
    "plt.plot(epsilon * 90, alpha = 0.6, ls = '--',\n",
    "         label = 'Epsilon profile (arbitrary unit)', color = 'orangered')\n",
    "\n",
    "# plot 2: difference between max and min reset policy probabilities over time\n",
    "plt.plot((np.array(mpm) - np.array(mp)) * 120, alpha = 0.6, ls = '--',\n",
    "         label = 'Probability difference (arbitrary unit)', color = 'dimgray')\n",
    "\n",
    "# plot 3: loss trend across all epochs\n",
    "plt.plot(loss_log, label = 'Loss', color = 'cornflowerblue')\n",
    "\n",
    "# set axis labels\n",
    "plt.xlabel('Epoch')\n",
    "plt.ylabel('MSE')\n",
    "\n",
    "# display legend to differentiate curves\n",
    "plt.legend()\n",
    "\n",
    "# save the final plot to a PDF file\n",
    "plt.savefig('loss.pdf', dpi = 300, bbox_inches='tight')\n",
    "\n",
    "# display the plot\n",
    "plt.show()\n"
   ]
  },
  {
   "cell_type": "markdown",
   "metadata": {},
   "source": [
    "**Show the maze solution and the policy learnt.**"
   ]
  },
  {
   "cell_type": "code",
   "execution_count": 39,
   "metadata": {
    "scrolled": true
   },
   "outputs": [
    {
     "data": {
      "image/png": "[encoded data removed]",
      "text/plain": [
       "<Figure size 432x288 with 1 Axes>"
      ]
     },
     "metadata": {},
     "output_type": "display_data"
    }
   ],
   "source": [
    "# set the network to evaluation mode (disables dropout, etc.)\n",
    "net.eval()\n",
    "\n",
    "# reset the agent’s game state\n",
    "agent.isgameon = True\n",
    "\n",
    "# switch to greedy policy (no softmax sampling — always take best action)\n",
    "agent.use_softmax = False\n",
    "\n",
    "# reset the environment with epsilon = 0 (favor goal during reset)\n",
    "_ = agent.env.reset(0)\n",
    "\n",
    "# run the episode until the goal is reached or game ends\n",
    "while agent.isgameon:\n",
    "    # agent makes a move using the trained policy (fully greedy)\n",
    "    agent.make_a_move(net, 0)\n",
    "\n",
    "    # visualize current maze with agent position (draws maze image)\n",
    "    agent.env.draw('')  # (filename is blank so it will just show, not save)\n",
    "\n",
    "    # clear the previous output to create an animation effect\n",
    "    clear_output(wait = True)\n"
   ]
  },
  {
   "cell_type": "code",
   "execution_count": 40,
   "metadata": {
    "ExecuteTime": {
     "end_time": "2025-06-25T08:40:38.112731Z",
     "start_time": "2025-06-24T18:20:11.979847Z"
    }
   },
   "outputs": [
    {
     "data": {
      "image/png": "[encoded data removed]",
      "text/plain": [
       "<Figure size 432x288 with 1 Axes>"
      ]
     },
     "metadata": {},
     "output_type": "display_data"
    }
   ],
   "source": [
    "# Learning policy map\n",
    "agent.plot_policy_map(net, 'solution.pdf', [0.35,-0.3])"
   ]
  },
  {
   "cell_type": "markdown",
   "metadata": {},
   "source": [
    "**Heatmap**\n"
   ]
  },
  {
   "cell_type": "code",
   "execution_count": 41,
   "metadata": {
    "ExecuteTime": {
     "end_time": "2025-06-25T08:40:38.113724100Z",
     "start_time": "2025-06-24T18:20:48.553585Z"
    }
   },
   "outputs": [
    {
     "data": {
      "image/png": "[encoded data removed]",
      "text/plain": [
       "<Figure size 576x576 with 2 Axes>"
      ]
     },
     "metadata": {
      "needs_background": "light"
     },
     "output_type": "display_data"
    }
   ],
   "source": [
    "def plot_reward_heatmap(agent, net, filename='reward_heatmap.pdf'):\n",
    "    net.eval()  # set network to evaluation mode\n",
    "    maze_shape = agent.env.maze.shape\n",
    "    heatmap = np.full(maze_shape, np.nan)  # initialize heatmap with NaNs (walls)\n",
    "\n",
    "    with torch.no_grad():  # disable gradient tracking\n",
    "        for cell in agent.env.allowed_states:\n",
    "            agent.env.current_position = np.array(cell)  # set position\n",
    "            state = torch.Tensor(agent.env.state()).view(1, -1).to('cuda')  # get input state\n",
    "            q_values = net(state).cpu().numpy().squeeze()  # predict q-values\n",
    "            max_q = np.max(q_values)  # take the max q-value\n",
    "            heatmap[cell[0], cell[1]] = max_q  # store in heatmap\n",
    "\n",
    "    # plot the heatmap\n",
    "    plt.figure(figsize=(8, 8))\n",
    "    sns.heatmap(heatmap, cmap=\"viridis\", linewidths=0.2,\n",
    "                square=True, cbar_kws={'label': 'Max Q-value'},\n",
    "                xticklabels=False, yticklabels=False)\n",
    "\n",
    "    # mark the goal cell\n",
    "    plt.scatter(agent.env.goal[1] + 0.5, agent.env.goal[0] + 0.5,\n",
    "                s=100, c='blue', marker='s', label='Goal')\n",
    "\n",
    "    plt.title(\"Reward Heatmap from Q-Network\")\n",
    "    plt.legend(loc='upper right')\n",
    "    plt.savefig(filename, dpi=300, bbox_inches='tight')  # save to file\n",
    "    plt.show()  # display the plot\n",
    "\n",
    "# generate and save the heatmap\n",
    "plot_reward_heatmap(agent, net, filename='reward_heatmap.pdf')\n"
   ]
  },
  {
   "cell_type": "code",
   "execution_count": null,
   "metadata": {},
   "outputs": [],
   "source": []
  }
 ],
 "metadata": {
  "kernelspec": {
   "display_name": "Python 3 (ipykernel)",
   "language": "python",
   "name": "python3"
  },
  "language_info": {
   "codemirror_mode": {
    "name": "ipython",
    "version": 3
   },
   "file_extension": ".py",
   "mimetype": "text/x-python",
   "name": "python",
   "nbconvert_exporter": "python",
   "pygments_lexer": "ipython3",
   "version": "3.10.12"
  }
 },
 "nbformat": 4,
 "nbformat_minor": 4
}
